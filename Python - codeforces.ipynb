{
 "cells": [
  {
   "cell_type": "markdown",
   "id": "0c5c39c9-43c2-4ac1-8815-9749d30338b1",
   "metadata": {},
   "source": [
    "### Assiut University Training - Newcomers"
   ]
  },
  {
   "cell_type": "markdown",
   "id": "acf6d1d5-e6d7-4d42-929a-b73cfef0fc2c",
   "metadata": {},
   "source": [
    "## Table of Contents\n",
    "\n",
    "#### Sheet #1 (Datatypes - Conditions)\n",
    "<li><a href=\"#Say_Hello_With_C++\">Say Hello With C++</a></li>\n",
    "<li><a href=\"#Basic_Data_Types\">Basic Data Types</a></li>\n",
    "<li><a href=\"#Simple_Calculator\">Simple_Calculator</a></li>\n",
    "<li><a href=\"#Difference\">Difference</a></li>\n",
    "<li><a href=\"#Area_of_a_Circle\">Area_of_a_Circle</a></li>\n",
    "<li><a href=\"#Digits_Summation\">Digits_Summation</a></li>\n",
    "<li><a href=\"#Summation_from_1_to_N\">Summation_from_1_to_N</a></li>\n",
    "<li><a href=\"#Two_numbers\">Two_numbers</a></li>\n",
    "<li><a href=\"#Welcome_for_you_with_Conditions\">Welcome_for_you_with_Conditions</a></li>\n",
    "<li><a href=\"#Multiples\">Multiples</a></li>\n",
    "<li><a href=\"#Max_and_Min\">Max_and_Min</a></li>\n",
    "<li><a href=\"#The_Brothers\">The_Brothers</a></li>\n",
    "<li><a href=\"#Capital_or_Small_or_Digit\">Capital_or_Small_or_Digit</a></li>\n",
    "<li><a href=\"#Char\">Char</a></li>\n",
    "<li><a href=\"#Calculator\">Calculator</a></li>\n",
    "<li><a href=\"#First_digit_!\">First_digit_!</a></li>\n",
    "<li><a href=\"#Coordinates_of_a_Point\">Coordinates_of_a_Point</a></li>\n",
    "<li><a href=\"#Age_in_Days\">Age_in_Days</a></li>\n",
    "<li><a href=\"#Interval\">Interval</a></li>\n",
    "<li><a href=\"#Sort_Numbers\">Sort_Numbers</a></li>\n",
    "<li><a href=\"#Float_or_int\">Float_or_int</a></li>\n",
    "<li><a href=\"#Comparison\">Comparison</a></li>\n",
    "<li><a href=\"#Mathematical_Expression\">Mathematical_Expression</a></li>\n",
    "<li><a href=\"#Two_intervals\">Two_intervals</a></li>\n",
    "<li><a href=\"#Write_Here\">Write_Here</a></li>\n",
    "<li><a href=\"#Write_Here\">Write_Here</a></li>\n",
    "<li><a href=\"#Write_Here\">Write_Here</a></li>\n",
    "<li><a href=\"#Write_Here\">Write_Here</a></li>\n",
    "<li><a href=\"#Write_Here\">Write_Here</a></li>\n",
    "<li><a href=\"#Write_Here\">Write_Here</a></li>\n",
    "<li><a href=\"#Write_Here\">Write_Here</a></li>\n",
    "<li><a href=\"#Write_Here\">Write_Here</a></li>\n",
    "<li><a href=\"#Write_Here\">Write_Here</a></li>\n",
    "<li><a href=\"#Write_Here\">Write_Here</a></li>\n",
    "<li><a href=\"#Write_Here\">Write_Here</a></li>\n",
    "<li><a href=\"#Write_Here\">Write_Here</a></li>\n",
    "<li><a href=\"#Write_Here\">Write_Here</a></li>\n",
    "<li><a href=\"#Write_Here\">Write_Here</a></li>\n",
    "<li><a href=\"#Write_Here\">Write_Here</a></li>\n",
    "<li><a href=\"#Write_Here\">Write_Here</a></li>\n",
    "<li><a href=\"#Write_Here\">Write_Here</a></li>\n",
    "<li><a href=\"#Write_Here\">Write_Here</a></li>"
   ]
  },
  {
   "cell_type": "code",
   "execution_count": 38,
   "id": "32c02f20-7750-40f0-bb51-3c477419894d",
   "metadata": {},
   "outputs": [
    {
     "data": {
      "text/plain": [
       "'Two_intervals'"
      ]
     },
     "execution_count": 38,
     "metadata": {},
     "output_type": "execute_result"
    }
   ],
   "source": [
    "title = 'Two intervals'\n",
    "title.replace(' ', '_')"
   ]
  },
  {
   "cell_type": "markdown",
   "id": "28e5208f-7cd0-4515-94b7-c446a0fa3e78",
   "metadata": {},
   "source": [
    "<a id='Say_Hello_With_C++'></a>\n",
    "### Say Hello With C++"
   ]
  },
  {
   "cell_type": "code",
   "execution_count": null,
   "id": "636fe70d-be1a-434f-9698-a8a7fcd2fa23",
   "metadata": {},
   "outputs": [],
   "source": [
    "S = input()\n",
    "print('Hello, ' + S)"
   ]
  },
  {
   "cell_type": "markdown",
   "id": "243865d4-d920-4c74-9a23-eb6e69af5f0a",
   "metadata": {},
   "source": [
    "<a id='Basic_Data_Types'></a>\n",
    "### Basic Data Types"
   ]
  },
  {
   "cell_type": "code",
   "execution_count": null,
   "id": "2cbbf04a-fef1-417e-9492-fb2554c02c34",
   "metadata": {},
   "outputs": [],
   "source": [
    "vals = input().split()\n",
    "vals[0] = int(vals[0])\n",
    "vals[1] = int(vals[1])\n",
    "vals[3] = float(vals[3])\n",
    "vals[4] = float(vals[4])\n",
    "for val in vals:\n",
    "    print(val)"
   ]
  },
  {
   "cell_type": "markdown",
   "id": "b77f1c8c-ebaa-4c70-a17d-e0794d03c6de",
   "metadata": {},
   "source": [
    "<a id='Simple_Calculator'></a>\n",
    "### Simple_Calculator"
   ]
  },
  {
   "cell_type": "code",
   "execution_count": 2,
   "id": "5a5d14bd-3a9a-4ba5-b893-811b4c050ee9",
   "metadata": {},
   "outputs": [
    {
     "name": "stdin",
     "output_type": "stream",
     "text": [
      " 5 10\n"
     ]
    },
    {
     "name": "stdout",
     "output_type": "stream",
     "text": [
      "5 + 10 = 15\n",
      "5 * 10 = 50\n",
      "5 - 10 = -5\n"
     ]
    }
   ],
   "source": [
    "num1, num2 = input().split()\n",
    "num1 = int(num1)\n",
    "num2 = int(num2)\n",
    "print('{} + {} = {}'.format(num1, num2 , num1 + num2))\n",
    "print('{} * {} = {}'.format(num1, num2, num1 * num2))\n",
    "print('{} - {} = {}'.format(num1, num2, num1 - num2))\n"
   ]
  },
  {
   "cell_type": "markdown",
   "id": "47b8e00b-5635-455f-83db-0b4ac2c1dc91",
   "metadata": {},
   "source": [
    "<a id='Difference'></a>\n",
    "### Difference"
   ]
  },
  {
   "cell_type": "code",
   "execution_count": 7,
   "id": "85db7a79-1d19-46d5-9d67-96607313d126",
   "metadata": {},
   "outputs": [
    {
     "name": "stdin",
     "output_type": "stream",
     "text": [
      " 4 5 2 3\n"
     ]
    },
    {
     "name": "stdout",
     "output_type": "stream",
     "text": [
      "Difference =  14\n"
     ]
    }
   ],
   "source": [
    "# Read the input line and split it into four integers\n",
    "A, B, C, D = map(int, input().split())\n",
    "\n",
    "# Calculate the result of the equation\n",
    "X = (A * B) - (C * D)\n",
    "\n",
    "# Print the result with the required format\n",
    "print(f\"Difference = {X}\")\n"
   ]
  },
  {
   "cell_type": "markdown",
   "id": "bdf1562d-6b0a-4302-a93c-53b6f6cf65e0",
   "metadata": {},
   "source": [
    "<a id='Area_of_a_Circle'></a>\n",
    "### Area_of_a_Circle"
   ]
  },
  {
   "cell_type": "code",
   "execution_count": 12,
   "id": "039c3515-dfbb-464b-9c32-4924a5570683",
   "metadata": {},
   "outputs": [
    {
     "name": "stdin",
     "output_type": "stream",
     "text": [
      " 2\n"
     ]
    },
    {
     "name": "stdout",
     "output_type": "stream",
     "text": [
      "12.566370612\n"
     ]
    }
   ],
   "source": [
    "r = float(input())\n",
    "pi = 3.141592653\n",
    "print('{:.9f}'.format(pi * r**2))"
   ]
  },
  {
   "cell_type": "markdown",
   "id": "03cf1b6b-54d0-4c8b-a6d9-55bcf1e6be84",
   "metadata": {},
   "source": [
    "<a id='Digits_Summation'></a>\n",
    "### Digits_Summation"
   ]
  },
  {
   "cell_type": "code",
   "execution_count": 15,
   "id": "833b5430-5897-4d17-b58c-90ae3bf1cc15",
   "metadata": {},
   "outputs": [
    {
     "name": "stdin",
     "output_type": "stream",
     "text": [
      " 12 13\n"
     ]
    },
    {
     "name": "stdout",
     "output_type": "stream",
     "text": [
      "5\n"
     ]
    }
   ],
   "source": [
    "n1, n2 = map(int, input().split())\n",
    "print(f'{(n1 % 10) + (n2 % 10)}')"
   ]
  },
  {
   "cell_type": "markdown",
   "id": "b61764ea-e48b-4a0d-b3d1-df9acfa652f7",
   "metadata": {},
   "source": [
    "<a id='Summation_from_1_to_N'></a>\n",
    "### Summation_from_1_to_N"
   ]
  },
  {
   "cell_type": "code",
   "execution_count": 21,
   "id": "7ef19df8-0ad6-49e6-a6b7-7cd879c98a85",
   "metadata": {},
   "outputs": [
    {
     "name": "stdin",
     "output_type": "stream",
     "text": [
      " 10\n"
     ]
    },
    {
     "name": "stdout",
     "output_type": "stream",
     "text": [
      "55\n"
     ]
    }
   ],
   "source": [
    "n = int(input())\n",
    "print((n * (n + 1)) // 2)"
   ]
  },
  {
   "cell_type": "markdown",
   "id": "a5f2d335-4272-4a93-96a0-f28fb9c3aff1",
   "metadata": {},
   "source": [
    "<a id='Two_numbers'></a>\n",
    "### Two_numbers"
   ]
  },
  {
   "cell_type": "code",
   "execution_count": 32,
   "id": "09c7023b-8b4a-4eb5-986d-a906d15f766c",
   "metadata": {},
   "outputs": [
    {
     "name": "stdin",
     "output_type": "stream",
     "text": [
      " 10 4\n"
     ]
    },
    {
     "name": "stdout",
     "output_type": "stream",
     "text": [
      "floor 10 / 4 = 2\n",
      "ceil 10 / 4 = 3\n",
      "round 10 / 4 = 3\n"
     ]
    }
   ],
   "source": [
    "import math\n",
    "\n",
    "# Input: Read two integers A and B\n",
    "A, B = map(int, input().split())\n",
    "\n",
    "def strict_round(x):\n",
    "    if x - math.floor(x) < 0.5:\n",
    "        return math.floor(x)\n",
    "    return math.ceil(x)\n",
    "\n",
    "result = A / B\n",
    "print(f'floor {A} / {B} = {math.floor(result)}')\n",
    "print(f'ceil {A} / {B} = {math.ceil(result)}')\n",
    "print(f'round {A} / {B} = {strict_round(result)}')\n"
   ]
  },
  {
   "cell_type": "markdown",
   "id": "bc2285f6-5704-437f-9375-2166e5fc008f",
   "metadata": {},
   "source": [
    "<a id='Welcome_for_you_with_Conditions'></a>\n",
    "### Welcome_for_you_with_Conditions"
   ]
  },
  {
   "cell_type": "code",
   "execution_count": 4,
   "id": "35e1da2b-75cb-4659-8e39-ab602c3bab95",
   "metadata": {},
   "outputs": [
    {
     "name": "stdin",
     "output_type": "stream",
     "text": [
      " 5 6\n"
     ]
    },
    {
     "name": "stdout",
     "output_type": "stream",
     "text": [
      "No\n"
     ]
    }
   ],
   "source": [
    "n1, n2 = map(int, input().split())\n",
    "\n",
    "if n1 >= n2: \n",
    "    print('Yes')\n",
    "else:\n",
    "    print('No')"
   ]
  },
  {
   "cell_type": "markdown",
   "id": "fa701ab6-b7b9-457e-9fa4-12fda0246c74",
   "metadata": {},
   "source": [
    "<a id='Multiples'></a>\n",
    "### Multiples"
   ]
  },
  {
   "cell_type": "code",
   "execution_count": 8,
   "id": "a10cfb50-b980-45e0-9630-65176383cd40",
   "metadata": {},
   "outputs": [
    {
     "name": "stdin",
     "output_type": "stream",
     "text": [
      " 6 24\n"
     ]
    },
    {
     "name": "stdout",
     "output_type": "stream",
     "text": [
      "Multiples\n"
     ]
    }
   ],
   "source": [
    "n1, n2 = map(int, input().split())\n",
    "\n",
    "if n1 % n2 == 0 or n2 % n1 == 0:\n",
    "    print('Multiples')\n",
    "else:\n",
    "    print('No Multiples')"
   ]
  },
  {
   "cell_type": "markdown",
   "id": "993f3601-e21b-44e8-977b-8690043308d7",
   "metadata": {},
   "source": [
    "<a id='Max_and_Min'></a>\n",
    "### Max_and_Min"
   ]
  },
  {
   "cell_type": "code",
   "execution_count": 1,
   "id": "6dacb2de-5fa3-4541-9d41-83cc0e936216",
   "metadata": {},
   "outputs": [
    {
     "name": "stdin",
     "output_type": "stream",
     "text": [
      " 10 2 3\n"
     ]
    },
    {
     "name": "stdout",
     "output_type": "stream",
     "text": [
      "2 10\n"
     ]
    }
   ],
   "source": [
    "nums = list(map(int, input().split()))\n",
    "minimum = nums[0]\n",
    "maximum = nums[0]\n",
    "for n in nums[1:]:\n",
    "    if n < minimum:\n",
    "        minimum = n\n",
    "    elif n > maximum:\n",
    "        maximum = n\n",
    "\n",
    "print(f'{minimum} {maximum}')"
   ]
  },
  {
   "cell_type": "markdown",
   "id": "0332905d-3b02-498b-9fc8-e92ef2ebe3c8",
   "metadata": {},
   "source": [
    "<a id='The_Brothers'></a>\n",
    "### The_Brothers"
   ]
  },
  {
   "cell_type": "code",
   "execution_count": 4,
   "id": "7d9397c7-52c9-4ff5-85ba-582985a4970b",
   "metadata": {},
   "outputs": [
    {
     "name": "stdin",
     "output_type": "stream",
     "text": [
      " ali kamel\n",
      " ali salah\n"
     ]
    },
    {
     "name": "stdout",
     "output_type": "stream",
     "text": [
      "NOT\n"
     ]
    }
   ],
   "source": [
    "last_name1 = input().split()[-1]\n",
    "last_name2 = input().split()[-1]\n",
    "if last_name1 == last_name2:\n",
    "    print('ARE Brothers')\n",
    "else:\n",
    "    print('NOT')"
   ]
  },
  {
   "cell_type": "markdown",
   "id": "6b18f664-0d14-4bfe-bf9e-fbadc13c0362",
   "metadata": {},
   "source": [
    "<a id='Capital_or_Small_or_Digit'></a>\n",
    "### Capital_or_Small_or_Digit"
   ]
  },
  {
   "cell_type": "code",
   "execution_count": 8,
   "id": "cb7fb171-7ac3-4d32-ab94-7d1c3d24ded7",
   "metadata": {},
   "outputs": [
    {
     "name": "stdin",
     "output_type": "stream",
     "text": [
      " A\n"
     ]
    },
    {
     "name": "stdout",
     "output_type": "stream",
     "text": [
      "ALPHA\n",
      "IS CAPITAL\n"
     ]
    }
   ],
   "source": [
    "x = input()\n",
    "if x.isdigit():\n",
    "    print('IS DIGIT')\n",
    "elif x.isalpha():\n",
    "    print('ALPHA')\n",
    "    if x.isupper():\n",
    "        print('IS CAPITAL')\n",
    "    else:\n",
    "        print('IS SMALL')"
   ]
  },
  {
   "cell_type": "markdown",
   "id": "d1b5b8eb-bfcc-4189-b074-e9755a1e973f",
   "metadata": {},
   "source": [
    "<a id='Char'></a>\n",
    "### Char"
   ]
  },
  {
   "cell_type": "code",
   "execution_count": 10,
   "id": "12d4d9cd-13c9-4821-9ae6-71402106f184",
   "metadata": {},
   "outputs": [
    {
     "name": "stdin",
     "output_type": "stream",
     "text": [
      " A\n"
     ]
    },
    {
     "name": "stdout",
     "output_type": "stream",
     "text": [
      "a\n"
     ]
    }
   ],
   "source": [
    "x = input()\n",
    "if x.isupper():\n",
    "    print(x.lower())\n",
    "else:\n",
    "    print(x.upper())"
   ]
  },
  {
   "cell_type": "markdown",
   "id": "4929eec0-426b-4f7b-9f0a-8c0d17a4d965",
   "metadata": {},
   "source": [
    "<a id='Calculator'></a>\n",
    "### Calculator"
   ]
  },
  {
   "cell_type": "code",
   "execution_count": 8,
   "id": "dd1a92d1-b70e-4bd1-80f8-252b1b8ac9cd",
   "metadata": {},
   "outputs": [
    {
     "name": "stdin",
     "output_type": "stream",
     "text": [
      " 5/2\n"
     ]
    },
    {
     "name": "stdout",
     "output_type": "stream",
     "text": [
      "2\n"
     ]
    }
   ],
   "source": [
    "import math\n",
    "\n",
    "exp = input()\n",
    "print(math.floor(eval(exp)))"
   ]
  },
  {
   "cell_type": "markdown",
   "id": "796db317-c7a3-49fd-ab87-b42993239dbf",
   "metadata": {},
   "source": [
    "<a id='First_digit_!'></a>\n",
    "### First_digit_!"
   ]
  },
  {
   "cell_type": "code",
   "execution_count": 16,
   "id": "ff4c4d1f-afdd-4ced-b356-723464d044fa",
   "metadata": {},
   "outputs": [
    {
     "name": "stdin",
     "output_type": "stream",
     "text": [
      " 3569\n"
     ]
    },
    {
     "name": "stdout",
     "output_type": "stream",
     "text": [
      "ODD\n"
     ]
    }
   ],
   "source": [
    "n = int(input())\n",
    "\n",
    "while n // 10 != 0:\n",
    "    n //= 10\n",
    "\n",
    "if n % 2 == 0:\n",
    "    print('EVEN')\n",
    "else:\n",
    "    print('ODD')"
   ]
  },
  {
   "cell_type": "markdown",
   "id": "063d8887-37b5-42bf-a838-3f7a82b5de62",
   "metadata": {},
   "source": [
    "<a id='Coordinates_of_a_Point'></a>\n",
    "### Coordinates_of_a_Point"
   ]
  },
  {
   "cell_type": "code",
   "execution_count": 29,
   "id": "91563f88-6232-4d05-8eeb-ebc18b4cd6b7",
   "metadata": {},
   "outputs": [
    {
     "name": "stdin",
     "output_type": "stream",
     "text": [
      " 4.5 -2.2\n"
     ]
    },
    {
     "name": "stdout",
     "output_type": "stream",
     "text": [
      "Q4\n"
     ]
    }
   ],
   "source": [
    "x, y = map(float, input().split())\n",
    "\n",
    "if x == 0 and y == 0:\n",
    "    print(\"Origem\")\n",
    "elif x == 0:\n",
    "    print(\"Eixo Y\")\n",
    "elif y == 0:\n",
    "    print(\"Eixo X\")\n",
    "elif x > 0 and y > 0:\n",
    "    print(\"Q1\")\n",
    "elif x < 0 and y > 0:\n",
    "    print(\"Q2\")\n",
    "elif x < 0 and y < 0:\n",
    "    print(\"Q3\")\n",
    "else:\n",
    "    print(\"Q4\")\n"
   ]
  },
  {
   "cell_type": "markdown",
   "id": "c754705d-c691-4cf0-b722-cf76e7b81776",
   "metadata": {},
   "source": [
    "<a id='Age_in_Days'></a>\n",
    "### Age_in_Days"
   ]
  },
  {
   "cell_type": "code",
   "execution_count": 4,
   "id": "dd5f5c6d-fecd-43ca-a3f4-50e75703f9d8",
   "metadata": {},
   "outputs": [
    {
     "name": "stdin",
     "output_type": "stream",
     "text": [
      " 30\n"
     ]
    },
    {
     "name": "stdout",
     "output_type": "stream",
     "text": [
      "0 years\n",
      "1 months\n",
      "0 days\n"
     ]
    }
   ],
   "source": [
    "n = int(input())\n",
    "\n",
    "years = n // 365\n",
    "months = (n % 365) // 30\n",
    "days = (n % 365) % 30\n",
    "print(f'{years} years')\n",
    "print(f'{months} months')\n",
    "print(f'{days} days')"
   ]
  },
  {
   "cell_type": "markdown",
   "id": "2910a856-41df-4ab9-ac4a-6e33f4cc5446",
   "metadata": {},
   "source": [
    "<a id='Interval'></a>\n",
    "### Interval"
   ]
  },
  {
   "cell_type": "code",
   "execution_count": 11,
   "id": "0514eb97-0492-4da1-86fb-55d0cac6e2a0",
   "metadata": {},
   "outputs": [
    {
     "name": "stdin",
     "output_type": "stream",
     "text": [
      " -25.2\n"
     ]
    },
    {
     "name": "stdout",
     "output_type": "stream",
     "text": [
      "Out of Intervals\n"
     ]
    }
   ],
   "source": [
    "n = float(input())\n",
    "\n",
    "if n >= 0 and n <=25:\n",
    "    print('Interval [0,25]')\n",
    "elif n > 25 and n <=50:\n",
    "    print('Interval (25,50]')\n",
    "elif n > 50 and n <= 75:\n",
    "    print('Interval (50,75]')\n",
    "elif n > 75 and n <= 100:\n",
    "    print('Interval (75,100]')\n",
    "else:\n",
    "    print('Out of Intervals')"
   ]
  },
  {
   "cell_type": "markdown",
   "id": "c5fa65aa-ce7f-48c0-824b-45394b5166a0",
   "metadata": {},
   "source": [
    "<a id='Sort_Numbers'></a>\n",
    "### Sort_Numbers"
   ]
  },
  {
   "cell_type": "code",
   "execution_count": 21,
   "id": "d8e4ad71-654d-460b-a15f-4da33fc3b111",
   "metadata": {},
   "outputs": [
    {
     "name": "stdin",
     "output_type": "stream",
     "text": [
      " -1 5 2 -1 2\n"
     ]
    },
    {
     "name": "stdout",
     "output_type": "stream",
     "text": [
      "-1\n",
      "-1\n",
      "2\n",
      "2\n",
      "5\n",
      "\n",
      "-1\n",
      "5\n",
      "2\n",
      "-1\n",
      "2\n"
     ]
    }
   ],
   "source": [
    "def quickSort(lst):\n",
    "    if len(lst) < 2:\n",
    "        return lst\n",
    "        \n",
    "    pivot = lst[0]\n",
    "    smaller = [num for num in lst[1:] if num <= pivot]\n",
    "    bigger = [num for num in lst[1:] if num > pivot]\n",
    "    return quickSort(smaller) + [pivot] + quickSort(bigger)\n",
    "\n",
    "nums = list(map(int, input().split()))\n",
    "sorted_nums = quickSort(nums)\n",
    "\n",
    "for n in sorted_nums:\n",
    "    print(n)\n",
    "\n",
    "print()\n",
    "\n",
    "for n in nums:\n",
    "    print(n)"
   ]
  },
  {
   "cell_type": "code",
   "execution_count": null,
   "id": "a74c3097-3194-43fb-98fd-3ec042fae595",
   "metadata": {},
   "outputs": [],
   "source": [
    "nums = list(map(int, input().split()))\n",
    "\n",
    "for n in sorted(nums):\n",
    "    print(n)\n",
    "\n",
    "print()\n",
    "\n",
    "for n in nums:\n",
    "    print(n)"
   ]
  },
  {
   "cell_type": "markdown",
   "id": "c31761a4-ccac-436e-89ef-773e62d06dc3",
   "metadata": {},
   "source": [
    "<a id='Float_or_int'></a>\n",
    "### Float_or_int"
   ]
  },
  {
   "cell_type": "code",
   "execution_count": 22,
   "id": "e04c8228-fe2d-4fff-95a8-58107a548f4c",
   "metadata": {},
   "outputs": [
    {
     "name": "stdin",
     "output_type": "stream",
     "text": [
      " 5.9\n"
     ]
    },
    {
     "name": "stdout",
     "output_type": "stream",
     "text": [
      "float 5 0.9000000000000004\n"
     ]
    }
   ],
   "source": [
    "n = float(input())\n",
    "\n",
    "if n.is_integer():\n",
    "    print(f'int {int(n)}')\n",
    "else:\n",
    "    integer_part = int(n)\n",
    "    decimal_part = n - integer_part\n",
    "    print(f'float {integer_part} {decimal_part}')\n"
   ]
  },
  {
   "cell_type": "markdown",
   "id": "d2c1b08e-0644-4d01-b4d0-c35a7761053e",
   "metadata": {},
   "source": [
    "<a id='Comparison'></a>\n",
    "### Comparison"
   ]
  },
  {
   "cell_type": "code",
   "execution_count": 31,
   "id": "ff885bb5-bc8e-475f-bd23-a606c215ffc7",
   "metadata": {},
   "outputs": [
    {
     "name": "stdin",
     "output_type": "stream",
     "text": [
      " 5 = 5\n"
     ]
    },
    {
     "name": "stdout",
     "output_type": "stream",
     "text": [
      "Right\n"
     ]
    }
   ],
   "source": [
    "exp = input()\n",
    "if '=' in exp:\n",
    "    exp = exp.replace('=', '==')\n",
    "    \n",
    "if eval(exp):\n",
    "    print('Right')\n",
    "else:\n",
    "    print('Wrong')"
   ]
  },
  {
   "cell_type": "code",
   "execution_count": null,
   "id": "ea3be366-d2b9-4887-87d8-80a37e1b1224",
   "metadata": {},
   "outputs": [],
   "source": [
    "import re\n",
    "\n",
    "exp = input().strip()\n",
    "\n",
    "# Replace a single '=' with '==', but avoid creating invalid expressions\n",
    "exp = re.sub(r'(?<![=!<>])=(?!=)', '==', exp)\n",
    "\n",
    "try:\n",
    "    # Evaluate the expression\n",
    "    if eval(exp):\n",
    "        print('Right')\n",
    "    else:\n",
    "        print('Wrong')\n",
    "except:\n",
    "    print('Invalid expression')\n"
   ]
  },
  {
   "cell_type": "markdown",
   "id": "d209d036-2b24-4b8f-9abc-e5b988e5e7f4",
   "metadata": {},
   "source": [
    "<a id='Mathematical_Expression'></a>\n",
    "### Mathematical_Expression"
   ]
  },
  {
   "cell_type": "code",
   "execution_count": 37,
   "id": "5a6bc3bb-9378-4946-9569-81abeda0209e",
   "metadata": {},
   "outputs": [
    {
     "name": "stdin",
     "output_type": "stream",
     "text": [
      " 2 * 10 = 19\n"
     ]
    },
    {
     "name": "stdout",
     "output_type": "stream",
     "text": [
      "20\n"
     ]
    }
   ],
   "source": [
    "exp = input()\n",
    "if '=' in exp:\n",
    "    exp = exp.replace('=', '==')\n",
    "\n",
    "if eval(exp):\n",
    "    print('Yes')\n",
    "else:\n",
    "    print(eval(exp.split('=')[0]))"
   ]
  },
  {
   "cell_type": "code",
   "execution_count": null,
   "id": "df67e266-c565-4000-a8b0-41ffe952bc2e",
   "metadata": {},
   "outputs": [],
   "source": [
    "import re\n",
    "\n",
    "exp = input().strip()\n",
    "\n",
    "# Replace a single '=' with '==', avoiding issues with valid comparison operators\n",
    "exp = re.sub(r'(?<![=!<>])=(?!=)', '==', exp)\n",
    "\n",
    "try:\n",
    "    # Evaluate the modified expression\n",
    "    if eval(exp):\n",
    "        print('Yes')\n",
    "    else:\n",
    "        # Evaluate and print the left-hand side of the original expression\n",
    "        lhs = exp.split('==')[0]\n",
    "        print(eval(lhs))\n",
    "except:\n",
    "    print('Invalid expression')\n"
   ]
  },
  {
   "cell_type": "markdown",
   "id": "b0da1a82-52ea-453d-b1ac-5343efa260f8",
   "metadata": {},
   "source": [
    "<a id='Two_intervals'></a>\n",
    "### Two_intervals"
   ]
  },
  {
   "cell_type": "code",
   "execution_count": 47,
   "id": "2c3f0e14-ac53-4842-a94a-fdbd11b432b1",
   "metadata": {},
   "outputs": [
    {
     "name": "stdin",
     "output_type": "stream",
     "text": [
      " 1 15 5 27\n"
     ]
    },
    {
     "name": "stdout",
     "output_type": "stream",
     "text": [
      "5 15\n"
     ]
    }
   ],
   "source": [
    "# Input: Two intervals [l1, r1], [l2, r2]\n",
    "l1, r1, l2, r2 = map(int, input().split())\n",
    "\n",
    "# Calculate the boundaries of the intersection\n",
    "start = max(l1, l2)\n",
    "end = min(r1, r2)\n",
    "\n",
    "# Output the result\n",
    "if start <= end:\n",
    "    print(start, end)\n",
    "else:\n",
    "    print(-1)\n"
   ]
  },
  {
   "cell_type": "code",
   "execution_count": null,
   "id": "bfb3bf36-6382-4192-ba1c-18fdd22be945",
   "metadata": {},
   "outputs": [],
   "source": [
    "<a id='Refer_to'></a>\n",
    "### Refer_to"
   ]
  },
  {
   "cell_type": "code",
   "execution_count": null,
   "id": "a458a614-891d-4fce-838f-ac6f7ac815d6",
   "metadata": {},
   "outputs": [],
   "source": [
    "<a id='Refer_to'></a>\n",
    "### Refer_to"
   ]
  },
  {
   "cell_type": "code",
   "execution_count": null,
   "id": "bd3a0267-7dcc-479d-aa1a-3478191f903e",
   "metadata": {},
   "outputs": [],
   "source": [
    "<a id='Refer_to'></a>\n",
    "### Refer_to"
   ]
  },
  {
   "cell_type": "code",
   "execution_count": null,
   "id": "fc764eab-0b28-4e0c-8fd1-d989c8175df0",
   "metadata": {},
   "outputs": [],
   "source": [
    "<a id='Refer_to'></a>\n",
    "### Refer_to"
   ]
  },
  {
   "cell_type": "code",
   "execution_count": null,
   "id": "967ffa89-54ef-4c4b-833a-666ef44d6203",
   "metadata": {},
   "outputs": [],
   "source": [
    "<a id='Refer_to'></a>\n",
    "### Refer_to"
   ]
  },
  {
   "cell_type": "code",
   "execution_count": null,
   "id": "8eae4b10-94d1-431b-bfe6-903278bab746",
   "metadata": {},
   "outputs": [],
   "source": [
    "<a id='Refer_to'></a>\n",
    "### Refer_to"
   ]
  },
  {
   "cell_type": "code",
   "execution_count": null,
   "id": "c8e42cbb-60d2-4507-8f0b-f32d9d11bfd9",
   "metadata": {},
   "outputs": [],
   "source": [
    "<a id='Refer_to'></a>\n",
    "### Refer_to"
   ]
  },
  {
   "cell_type": "code",
   "execution_count": null,
   "id": "cbd9ec8f-8e32-454f-af00-3d3bdec83744",
   "metadata": {},
   "outputs": [],
   "source": [
    "<a id='Refer_to'></a>\n",
    "### Refer_to"
   ]
  },
  {
   "cell_type": "code",
   "execution_count": null,
   "id": "d3e74848-45d4-43e0-81ca-d364363976e9",
   "metadata": {},
   "outputs": [],
   "source": [
    "<a id='Refer_to'></a>\n",
    "### Refer_to"
   ]
  }
 ],
 "metadata": {
  "kernelspec": {
   "display_name": "Python 3 (ipykernel)",
   "language": "python",
   "name": "python3"
  },
  "language_info": {
   "codemirror_mode": {
    "name": "ipython",
    "version": 3
   },
   "file_extension": ".py",
   "mimetype": "text/x-python",
   "name": "python",
   "nbconvert_exporter": "python",
   "pygments_lexer": "ipython3",
   "version": "3.11.7"
  }
 },
 "nbformat": 4,
 "nbformat_minor": 5
}
