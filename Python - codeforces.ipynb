{
 "cells": [
  {
   "cell_type": "markdown",
   "id": "0c5c39c9-43c2-4ac1-8815-9749d30338b1",
   "metadata": {},
   "source": [
    "### Assiut University Training - Newcomers"
   ]
  },
  {
   "cell_type": "markdown",
   "id": "acf6d1d5-e6d7-4d42-929a-b73cfef0fc2c",
   "metadata": {},
   "source": [
    "## Table of Contents\n",
    "#### Sheet #1 (Datatypes - Conditions)\n",
    "\n",
    "<li><a href=\"#Say_Hello_With_C++\">Say Hello With C++</a></li>\n",
    "<li><a href=\"#Basic_Data_Types\">Basic Data Types</a></li>\n",
    "<li><a href=\"#Simple_Calculator\">Simple_Calculator</a></li>\n",
    "<li><a href=\"#Difference\">Difference</a></li>\n",
    "<li><a href=\"#Area_of_a_Circle\">Area_of_a_Circle</a></li>\n",
    "<li><a href=\"#Digits_Summation\">Digits_Summation</a></li>\n",
    "<li><a href=\"#Summation_from_1_to_N\">Summation_from_1_to_N</a></li>\n",
    "<li><a href=\"#Write_Here\">Write_Here</a></li>\n",
    "<li><a href=\"#Write_Here\">Write_Here</a></li>\n",
    "<li><a href=\"#Write_Here\">Write_Here</a></li>\n",
    "<li><a href=\"#Write_Here\">Write_Here</a></li>\n",
    "<li><a href=\"#Write_Here\">Write_Here</a></li>\n",
    "<li><a href=\"#Write_Here\">Write_Here</a></li>\n",
    "<li><a href=\"#Write_Here\">Write_Here</a></li>\n",
    "<li><a href=\"#Write_Here\">Write_Here</a></li>\n",
    "<li><a href=\"#Write_Here\">Write_Here</a></li>\n",
    "<li><a href=\"#Write_Here\">Write_Here</a></li>\n",
    "<li><a href=\"#Write_Here\">Write_Here</a></li>\n",
    "<li><a href=\"#Write_Here\">Write_Here</a></li>\n",
    "<li><a href=\"#Write_Here\">Write_Here</a></li>\n",
    "<li><a href=\"#Write_Here\">Write_Here</a></li>\n",
    "<li><a href=\"#Write_Here\">Write_Here</a></li>\n",
    "<li><a href=\"#Write_Here\">Write_Here</a></li>\n",
    "<li><a href=\"#Write_Here\">Write_Here</a></li>\n",
    "<li><a href=\"#Write_Here\">Write_Here</a></li>\n",
    "<li><a href=\"#Write_Here\">Write_Here</a></li>"
   ]
  },
  {
   "cell_type": "code",
   "execution_count": 16,
   "id": "32c02f20-7750-40f0-bb51-3c477419894d",
   "metadata": {},
   "outputs": [
    {
     "data": {
      "text/plain": [
       "'Summation_from_1_to_N'"
      ]
     },
     "execution_count": 16,
     "metadata": {},
     "output_type": "execute_result"
    }
   ],
   "source": [
    "title = 'Summation from 1 to N'\n",
    "title.replace(' ', '_')"
   ]
  },
  {
   "cell_type": "markdown",
   "id": "28e5208f-7cd0-4515-94b7-c446a0fa3e78",
   "metadata": {},
   "source": [
    "<a id='Say_Hello_With_C++'></a>\n",
    "### Say Hello With C++"
   ]
  },
  {
   "cell_type": "code",
   "execution_count": null,
   "id": "636fe70d-be1a-434f-9698-a8a7fcd2fa23",
   "metadata": {},
   "outputs": [],
   "source": [
    "S = input()\n",
    "print('Hello, ' + S)"
   ]
  },
  {
   "cell_type": "markdown",
   "id": "243865d4-d920-4c74-9a23-eb6e69af5f0a",
   "metadata": {},
   "source": [
    "<a id='Basic_Data_Types'></a>\n",
    "### Basic Data Types"
   ]
  },
  {
   "cell_type": "code",
   "execution_count": null,
   "id": "2cbbf04a-fef1-417e-9492-fb2554c02c34",
   "metadata": {},
   "outputs": [],
   "source": [
    "vals = input().split()\n",
    "vals[0] = int(vals[0])\n",
    "vals[1] = int(vals[1])\n",
    "vals[3] = float(vals[3])\n",
    "vals[4] = float(vals[4])\n",
    "for val in vals:\n",
    "    print(val)"
   ]
  },
  {
   "cell_type": "markdown",
   "id": "b77f1c8c-ebaa-4c70-a17d-e0794d03c6de",
   "metadata": {},
   "source": [
    "<a id='Simple_Calculator'></a>\n",
    "### Simple_Calculator"
   ]
  },
  {
   "cell_type": "code",
   "execution_count": 2,
   "id": "5a5d14bd-3a9a-4ba5-b893-811b4c050ee9",
   "metadata": {},
   "outputs": [
    {
     "name": "stdin",
     "output_type": "stream",
     "text": [
      " 5 10\n"
     ]
    },
    {
     "name": "stdout",
     "output_type": "stream",
     "text": [
      "5 + 10 = 15\n",
      "5 * 10 = 50\n",
      "5 - 10 = -5\n"
     ]
    }
   ],
   "source": [
    "num1, num2 = input().split()\n",
    "num1 = int(num1)\n",
    "num2 = int(num2)\n",
    "print('{} + {} = {}'.format(num1, num2 , num1 + num2))\n",
    "print('{} * {} = {}'.format(num1, num2, num1 * num2))\n",
    "print('{} - {} = {}'.format(num1, num2, num1 - num2))\n"
   ]
  },
  {
   "cell_type": "markdown",
   "id": "47b8e00b-5635-455f-83db-0b4ac2c1dc91",
   "metadata": {},
   "source": [
    "<a id='Difference'></a>\n",
    "### Difference"
   ]
  },
  {
   "cell_type": "code",
   "execution_count": 7,
   "id": "85db7a79-1d19-46d5-9d67-96607313d126",
   "metadata": {},
   "outputs": [
    {
     "name": "stdin",
     "output_type": "stream",
     "text": [
      " 4 5 2 3\n"
     ]
    },
    {
     "name": "stdout",
     "output_type": "stream",
     "text": [
      "Difference =  14\n"
     ]
    }
   ],
   "source": [
    "# Read the input line and split it into four integers\n",
    "A, B, C, D = map(int, input().split())\n",
    "\n",
    "# Calculate the result of the equation\n",
    "X = (A * B) - (C * D)\n",
    "\n",
    "# Print the result with the required format\n",
    "print(f\"Difference = {X}\")\n"
   ]
  },
  {
   "cell_type": "markdown",
   "id": "bdf1562d-6b0a-4302-a93c-53b6f6cf65e0",
   "metadata": {},
   "source": [
    "<a id='Area_of_a_Circle'></a>\n",
    "### Area_of_a_Circle"
   ]
  },
  {
   "cell_type": "code",
   "execution_count": 12,
   "id": "039c3515-dfbb-464b-9c32-4924a5570683",
   "metadata": {},
   "outputs": [
    {
     "name": "stdin",
     "output_type": "stream",
     "text": [
      " 2\n"
     ]
    },
    {
     "name": "stdout",
     "output_type": "stream",
     "text": [
      "12.566370612\n"
     ]
    }
   ],
   "source": [
    "r = float(input())\n",
    "pi = 3.141592653\n",
    "print('{:.9f}'.format(pi * r**2))"
   ]
  },
  {
   "cell_type": "markdown",
   "id": "03cf1b6b-54d0-4c8b-a6d9-55bcf1e6be84",
   "metadata": {},
   "source": [
    "<a id='Digits_Summation'></a>\n",
    "### Digits_Summation"
   ]
  },
  {
   "cell_type": "code",
   "execution_count": 15,
   "id": "833b5430-5897-4d17-b58c-90ae3bf1cc15",
   "metadata": {},
   "outputs": [
    {
     "name": "stdin",
     "output_type": "stream",
     "text": [
      " 12 13\n"
     ]
    },
    {
     "name": "stdout",
     "output_type": "stream",
     "text": [
      "5\n"
     ]
    }
   ],
   "source": [
    "n1, n2 = map(int, input().split())\n",
    "print(f'{(n1 % 10) + (n2 % 10)}')"
   ]
  },
  {
   "cell_type": "markdown",
   "id": "b61764ea-e48b-4a0d-b3d1-df9acfa652f7",
   "metadata": {},
   "source": [
    "<a id='Summation_from_1_to_N'></a>\n",
    "### Summation_from_1_to_N"
   ]
  },
  {
   "cell_type": "code",
   "execution_count": 21,
   "id": "7ef19df8-0ad6-49e6-a6b7-7cd879c98a85",
   "metadata": {},
   "outputs": [
    {
     "name": "stdin",
     "output_type": "stream",
     "text": [
      " 10\n"
     ]
    },
    {
     "name": "stdout",
     "output_type": "stream",
     "text": [
      "55\n"
     ]
    }
   ],
   "source": [
    "n = int(input())\n",
    "print((n * (n + 1)) // 2)"
   ]
  },
  {
   "cell_type": "code",
   "execution_count": null,
   "id": "982a944a-c1e8-4cba-95ce-f1a627d2c8dd",
   "metadata": {},
   "outputs": [],
   "source": [
    "<a id='Refer_to'></a>\n",
    "### Refer_to"
   ]
  },
  {
   "cell_type": "code",
   "execution_count": null,
   "id": "7833b996-6fe6-49cd-9bf3-d07a74af7d93",
   "metadata": {},
   "outputs": [],
   "source": [
    "<a id='Refer_to'></a>\n",
    "### Refer_to"
   ]
  },
  {
   "cell_type": "code",
   "execution_count": null,
   "id": "d0e4476a-4493-4cee-9328-835bd8ee6580",
   "metadata": {},
   "outputs": [],
   "source": [
    "<a id='Refer_to'></a>\n",
    "### Refer_to"
   ]
  },
  {
   "cell_type": "code",
   "execution_count": null,
   "id": "7e940cb6-5503-481a-b309-d991bb666bfc",
   "metadata": {},
   "outputs": [],
   "source": [
    "<a id='Refer_to'></a>\n",
    "### Refer_to"
   ]
  }
 ],
 "metadata": {
  "kernelspec": {
   "display_name": "Python 3 (ipykernel)",
   "language": "python",
   "name": "python3"
  },
  "language_info": {
   "codemirror_mode": {
    "name": "ipython",
    "version": 3
   },
   "file_extension": ".py",
   "mimetype": "text/x-python",
   "name": "python",
   "nbconvert_exporter": "python",
   "pygments_lexer": "ipython3",
   "version": "3.11.7"
  }
 },
 "nbformat": 4,
 "nbformat_minor": 5
}
