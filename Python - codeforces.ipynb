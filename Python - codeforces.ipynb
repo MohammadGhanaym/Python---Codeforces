{
 "cells": [
  {
   "cell_type": "markdown",
   "id": "0c5c39c9-43c2-4ac1-8815-9749d30338b1",
   "metadata": {},
   "source": [
    "### Assiut University Training - Newcomers"
   ]
  },
  {
   "cell_type": "markdown",
   "id": "acf6d1d5-e6d7-4d42-929a-b73cfef0fc2c",
   "metadata": {},
   "source": [
    "## Table of Contents\n",
    "\n",
    "#### Sheet #1 (Datatypes - Conditions)\n",
    "<li><a href=\"#Say_Hello_With_C++\">Say Hello With C++</a></li>\n",
    "<li><a href=\"#Basic_Data_Types\">Basic Data Types</a></li>\n",
    "<li><a href=\"#Simple_Calculator\">Simple_Calculator</a></li>\n",
    "<li><a href=\"#Difference\">Difference</a></li>\n",
    "<li><a href=\"#Area_of_a_Circle\">Area_of_a_Circle</a></li>\n",
    "<li><a href=\"#Digits_Summation\">Digits_Summation</a></li>\n",
    "<li><a href=\"#Summation_from_1_to_N\">Summation_from_1_to_N</a></li>\n",
    "<li><a href=\"#Two_numbers\">Two_numbers</a></li>\n",
    "<li><a href=\"#Welcome_for_you_with_Conditions\">Welcome_for_you_with_Conditions</a></li>\n",
    "<li><a href=\"#Multiples\">Multiples</a></li>\n",
    "<li><a href=\"#Max_and_Min\">Max_and_Min</a></li>\n",
    "<li><a href=\"#The_Brothers\">The_Brothers</a></li>\n",
    "<li><a href=\"#Capital_or_Small_or_Digit\">Capital_or_Small_or_Digit</a></li>\n",
    "<li><a href=\"#Char\">Char</a></li>\n",
    "<li><a href=\"#Calculator\">Calculator</a></li>\n",
    "<li><a href=\"#First_digit_!\">First_digit_!</a></li>\n",
    "<li><a href=\"#Coordinates_of_a_Point\">Coordinates_of_a_Point</a></li>\n",
    "<li><a href=\"#Write_Here\">Write_Here</a></li>\n",
    "<li><a href=\"#Write_Here\">Write_Here</a></li>\n",
    "<li><a href=\"#Write_Here\">Write_Here</a></li>\n",
    "<li><a href=\"#Write_Here\">Write_Here</a></li>\n",
    "<li><a href=\"#Write_Here\">Write_Here</a></li>\n",
    "<li><a href=\"#Write_Here\">Write_Here</a></li>\n",
    "<li><a href=\"#Write_Here\">Write_Here</a></li>\n",
    "<li><a href=\"#Write_Here\">Write_Here</a></li>\n",
    "<li><a href=\"#Write_Here\">Write_Here</a></li>"
   ]
  },
  {
   "cell_type": "code",
   "execution_count": 17,
   "id": "32c02f20-7750-40f0-bb51-3c477419894d",
   "metadata": {},
   "outputs": [
    {
     "data": {
      "text/plain": [
       "'Coordinates_of_a_Point'"
      ]
     },
     "execution_count": 17,
     "metadata": {},
     "output_type": "execute_result"
    }
   ],
   "source": [
    "title = 'Coordinates of a Point'\n",
    "title.replace(' ', '_')"
   ]
  },
  {
   "cell_type": "markdown",
   "id": "28e5208f-7cd0-4515-94b7-c446a0fa3e78",
   "metadata": {},
   "source": [
    "<a id='Say_Hello_With_C++'></a>\n",
    "### Say Hello With C++"
   ]
  },
  {
   "cell_type": "code",
   "execution_count": null,
   "id": "636fe70d-be1a-434f-9698-a8a7fcd2fa23",
   "metadata": {},
   "outputs": [],
   "source": [
    "S = input()\n",
    "print('Hello, ' + S)"
   ]
  },
  {
   "cell_type": "markdown",
   "id": "243865d4-d920-4c74-9a23-eb6e69af5f0a",
   "metadata": {},
   "source": [
    "<a id='Basic_Data_Types'></a>\n",
    "### Basic Data Types"
   ]
  },
  {
   "cell_type": "code",
   "execution_count": null,
   "id": "2cbbf04a-fef1-417e-9492-fb2554c02c34",
   "metadata": {},
   "outputs": [],
   "source": [
    "vals = input().split()\n",
    "vals[0] = int(vals[0])\n",
    "vals[1] = int(vals[1])\n",
    "vals[3] = float(vals[3])\n",
    "vals[4] = float(vals[4])\n",
    "for val in vals:\n",
    "    print(val)"
   ]
  },
  {
   "cell_type": "markdown",
   "id": "b77f1c8c-ebaa-4c70-a17d-e0794d03c6de",
   "metadata": {},
   "source": [
    "<a id='Simple_Calculator'></a>\n",
    "### Simple_Calculator"
   ]
  },
  {
   "cell_type": "code",
   "execution_count": 2,
   "id": "5a5d14bd-3a9a-4ba5-b893-811b4c050ee9",
   "metadata": {},
   "outputs": [
    {
     "name": "stdin",
     "output_type": "stream",
     "text": [
      " 5 10\n"
     ]
    },
    {
     "name": "stdout",
     "output_type": "stream",
     "text": [
      "5 + 10 = 15\n",
      "5 * 10 = 50\n",
      "5 - 10 = -5\n"
     ]
    }
   ],
   "source": [
    "num1, num2 = input().split()\n",
    "num1 = int(num1)\n",
    "num2 = int(num2)\n",
    "print('{} + {} = {}'.format(num1, num2 , num1 + num2))\n",
    "print('{} * {} = {}'.format(num1, num2, num1 * num2))\n",
    "print('{} - {} = {}'.format(num1, num2, num1 - num2))\n"
   ]
  },
  {
   "cell_type": "markdown",
   "id": "47b8e00b-5635-455f-83db-0b4ac2c1dc91",
   "metadata": {},
   "source": [
    "<a id='Difference'></a>\n",
    "### Difference"
   ]
  },
  {
   "cell_type": "code",
   "execution_count": 7,
   "id": "85db7a79-1d19-46d5-9d67-96607313d126",
   "metadata": {},
   "outputs": [
    {
     "name": "stdin",
     "output_type": "stream",
     "text": [
      " 4 5 2 3\n"
     ]
    },
    {
     "name": "stdout",
     "output_type": "stream",
     "text": [
      "Difference =  14\n"
     ]
    }
   ],
   "source": [
    "# Read the input line and split it into four integers\n",
    "A, B, C, D = map(int, input().split())\n",
    "\n",
    "# Calculate the result of the equation\n",
    "X = (A * B) - (C * D)\n",
    "\n",
    "# Print the result with the required format\n",
    "print(f\"Difference = {X}\")\n"
   ]
  },
  {
   "cell_type": "markdown",
   "id": "bdf1562d-6b0a-4302-a93c-53b6f6cf65e0",
   "metadata": {},
   "source": [
    "<a id='Area_of_a_Circle'></a>\n",
    "### Area_of_a_Circle"
   ]
  },
  {
   "cell_type": "code",
   "execution_count": 12,
   "id": "039c3515-dfbb-464b-9c32-4924a5570683",
   "metadata": {},
   "outputs": [
    {
     "name": "stdin",
     "output_type": "stream",
     "text": [
      " 2\n"
     ]
    },
    {
     "name": "stdout",
     "output_type": "stream",
     "text": [
      "12.566370612\n"
     ]
    }
   ],
   "source": [
    "r = float(input())\n",
    "pi = 3.141592653\n",
    "print('{:.9f}'.format(pi * r**2))"
   ]
  },
  {
   "cell_type": "markdown",
   "id": "03cf1b6b-54d0-4c8b-a6d9-55bcf1e6be84",
   "metadata": {},
   "source": [
    "<a id='Digits_Summation'></a>\n",
    "### Digits_Summation"
   ]
  },
  {
   "cell_type": "code",
   "execution_count": 15,
   "id": "833b5430-5897-4d17-b58c-90ae3bf1cc15",
   "metadata": {},
   "outputs": [
    {
     "name": "stdin",
     "output_type": "stream",
     "text": [
      " 12 13\n"
     ]
    },
    {
     "name": "stdout",
     "output_type": "stream",
     "text": [
      "5\n"
     ]
    }
   ],
   "source": [
    "n1, n2 = map(int, input().split())\n",
    "print(f'{(n1 % 10) + (n2 % 10)}')"
   ]
  },
  {
   "cell_type": "markdown",
   "id": "b61764ea-e48b-4a0d-b3d1-df9acfa652f7",
   "metadata": {},
   "source": [
    "<a id='Summation_from_1_to_N'></a>\n",
    "### Summation_from_1_to_N"
   ]
  },
  {
   "cell_type": "code",
   "execution_count": 21,
   "id": "7ef19df8-0ad6-49e6-a6b7-7cd879c98a85",
   "metadata": {},
   "outputs": [
    {
     "name": "stdin",
     "output_type": "stream",
     "text": [
      " 10\n"
     ]
    },
    {
     "name": "stdout",
     "output_type": "stream",
     "text": [
      "55\n"
     ]
    }
   ],
   "source": [
    "n = int(input())\n",
    "print((n * (n + 1)) // 2)"
   ]
  },
  {
   "cell_type": "markdown",
   "id": "a5f2d335-4272-4a93-96a0-f28fb9c3aff1",
   "metadata": {},
   "source": [
    "<a id='Two_numbers'></a>\n",
    "### Two_numbers"
   ]
  },
  {
   "cell_type": "code",
   "execution_count": 32,
   "id": "09c7023b-8b4a-4eb5-986d-a906d15f766c",
   "metadata": {},
   "outputs": [
    {
     "name": "stdin",
     "output_type": "stream",
     "text": [
      " 10 4\n"
     ]
    },
    {
     "name": "stdout",
     "output_type": "stream",
     "text": [
      "floor 10 / 4 = 2\n",
      "ceil 10 / 4 = 3\n",
      "round 10 / 4 = 3\n"
     ]
    }
   ],
   "source": [
    "import math\n",
    "\n",
    "# Input: Read two integers A and B\n",
    "A, B = map(int, input().split())\n",
    "\n",
    "def strict_round(x):\n",
    "    if x - math.floor(x) < 0.5:\n",
    "        return math.floor(x)\n",
    "    return math.ceil(x)\n",
    "\n",
    "result = A / B\n",
    "print(f'floor {A} / {B} = {math.floor(result)}')\n",
    "print(f'ceil {A} / {B} = {math.ceil(result)}')\n",
    "print(f'round {A} / {B} = {strict_round(result)}')\n"
   ]
  },
  {
   "cell_type": "markdown",
   "id": "bc2285f6-5704-437f-9375-2166e5fc008f",
   "metadata": {},
   "source": [
    "<a id='Welcome_for_you_with_Conditions'></a>\n",
    "### Welcome_for_you_with_Conditions"
   ]
  },
  {
   "cell_type": "code",
   "execution_count": 4,
   "id": "35e1da2b-75cb-4659-8e39-ab602c3bab95",
   "metadata": {},
   "outputs": [
    {
     "name": "stdin",
     "output_type": "stream",
     "text": [
      " 5 6\n"
     ]
    },
    {
     "name": "stdout",
     "output_type": "stream",
     "text": [
      "No\n"
     ]
    }
   ],
   "source": [
    "n1, n2 = map(int, input().split())\n",
    "\n",
    "if n1 >= n2: \n",
    "    print('Yes')\n",
    "else:\n",
    "    print('No')"
   ]
  },
  {
   "cell_type": "markdown",
   "id": "fa701ab6-b7b9-457e-9fa4-12fda0246c74",
   "metadata": {},
   "source": [
    "<a id='Multiples'></a>\n",
    "### Multiples"
   ]
  },
  {
   "cell_type": "code",
   "execution_count": 8,
   "id": "a10cfb50-b980-45e0-9630-65176383cd40",
   "metadata": {},
   "outputs": [
    {
     "name": "stdin",
     "output_type": "stream",
     "text": [
      " 6 24\n"
     ]
    },
    {
     "name": "stdout",
     "output_type": "stream",
     "text": [
      "Multiples\n"
     ]
    }
   ],
   "source": [
    "n1, n2 = map(int, input().split())\n",
    "\n",
    "if n1 % n2 == 0 or n2 % n1 == 0:\n",
    "    print('Multiples')\n",
    "else:\n",
    "    print('No Multiples')"
   ]
  },
  {
   "cell_type": "markdown",
   "id": "993f3601-e21b-44e8-977b-8690043308d7",
   "metadata": {},
   "source": [
    "<a id='Max_and_Min'></a>\n",
    "### Max_and_Min"
   ]
  },
  {
   "cell_type": "code",
   "execution_count": 1,
   "id": "6dacb2de-5fa3-4541-9d41-83cc0e936216",
   "metadata": {},
   "outputs": [
    {
     "name": "stdin",
     "output_type": "stream",
     "text": [
      " 10 2 3\n"
     ]
    },
    {
     "name": "stdout",
     "output_type": "stream",
     "text": [
      "2 10\n"
     ]
    }
   ],
   "source": [
    "nums = list(map(int, input().split()))\n",
    "minimum = nums[0]\n",
    "maximum = nums[0]\n",
    "for n in nums[1:]:\n",
    "    if n < minimum:\n",
    "        minimum = n\n",
    "    elif n > maximum:\n",
    "        maximum = n\n",
    "\n",
    "print(f'{minimum} {maximum}')"
   ]
  },
  {
   "cell_type": "markdown",
   "id": "0332905d-3b02-498b-9fc8-e92ef2ebe3c8",
   "metadata": {},
   "source": [
    "<a id='The_Brothers'></a>\n",
    "### The_Brothers"
   ]
  },
  {
   "cell_type": "code",
   "execution_count": 4,
   "id": "7d9397c7-52c9-4ff5-85ba-582985a4970b",
   "metadata": {},
   "outputs": [
    {
     "name": "stdin",
     "output_type": "stream",
     "text": [
      " ali kamel\n",
      " ali salah\n"
     ]
    },
    {
     "name": "stdout",
     "output_type": "stream",
     "text": [
      "NOT\n"
     ]
    }
   ],
   "source": [
    "last_name1 = input().split()[-1]\n",
    "last_name2 = input().split()[-1]\n",
    "if last_name1 == last_name2:\n",
    "    print('ARE Brothers')\n",
    "else:\n",
    "    print('NOT')"
   ]
  },
  {
   "cell_type": "markdown",
   "id": "6b18f664-0d14-4bfe-bf9e-fbadc13c0362",
   "metadata": {},
   "source": [
    "<a id='Capital_or_Small_or_Digit'></a>\n",
    "### Capital_or_Small_or_Digit"
   ]
  },
  {
   "cell_type": "code",
   "execution_count": 8,
   "id": "cb7fb171-7ac3-4d32-ab94-7d1c3d24ded7",
   "metadata": {},
   "outputs": [
    {
     "name": "stdin",
     "output_type": "stream",
     "text": [
      " A\n"
     ]
    },
    {
     "name": "stdout",
     "output_type": "stream",
     "text": [
      "ALPHA\n",
      "IS CAPITAL\n"
     ]
    }
   ],
   "source": [
    "x = input()\n",
    "if x.isdigit():\n",
    "    print('IS DIGIT')\n",
    "elif x.isalpha():\n",
    "    print('ALPHA')\n",
    "    if x.isupper():\n",
    "        print('IS CAPITAL')\n",
    "    else:\n",
    "        print('IS SMALL')"
   ]
  },
  {
   "cell_type": "markdown",
   "id": "d1b5b8eb-bfcc-4189-b074-e9755a1e973f",
   "metadata": {},
   "source": [
    "<a id='Char'></a>\n",
    "### Char"
   ]
  },
  {
   "cell_type": "code",
   "execution_count": 10,
   "id": "12d4d9cd-13c9-4821-9ae6-71402106f184",
   "metadata": {},
   "outputs": [
    {
     "name": "stdin",
     "output_type": "stream",
     "text": [
      " A\n"
     ]
    },
    {
     "name": "stdout",
     "output_type": "stream",
     "text": [
      "a\n"
     ]
    }
   ],
   "source": [
    "x = input()\n",
    "if x.isupper():\n",
    "    print(x.lower())\n",
    "else:\n",
    "    print(x.upper())"
   ]
  },
  {
   "cell_type": "markdown",
   "id": "4929eec0-426b-4f7b-9f0a-8c0d17a4d965",
   "metadata": {},
   "source": [
    "<a id='Calculator'></a>\n",
    "### Calculator"
   ]
  },
  {
   "cell_type": "code",
   "execution_count": 8,
   "id": "dd1a92d1-b70e-4bd1-80f8-252b1b8ac9cd",
   "metadata": {},
   "outputs": [
    {
     "name": "stdin",
     "output_type": "stream",
     "text": [
      " 5/2\n"
     ]
    },
    {
     "name": "stdout",
     "output_type": "stream",
     "text": [
      "2\n"
     ]
    }
   ],
   "source": [
    "import math\n",
    "\n",
    "exp = input()\n",
    "print(math.floor(eval(exp)))"
   ]
  },
  {
   "cell_type": "markdown",
   "id": "796db317-c7a3-49fd-ab87-b42993239dbf",
   "metadata": {},
   "source": [
    "<a id='First_digit_!'></a>\n",
    "### First_digit_!"
   ]
  },
  {
   "cell_type": "code",
   "execution_count": 16,
   "id": "ff4c4d1f-afdd-4ced-b356-723464d044fa",
   "metadata": {},
   "outputs": [
    {
     "name": "stdin",
     "output_type": "stream",
     "text": [
      " 3569\n"
     ]
    },
    {
     "name": "stdout",
     "output_type": "stream",
     "text": [
      "ODD\n"
     ]
    }
   ],
   "source": [
    "n = int(input())\n",
    "\n",
    "while n // 10 != 0:\n",
    "    n //= 10\n",
    "\n",
    "if n % 2 == 0:\n",
    "    print('EVEN')\n",
    "else:\n",
    "    print('ODD')"
   ]
  },
  {
   "cell_type": "markdown",
   "id": "063d8887-37b5-42bf-a838-3f7a82b5de62",
   "metadata": {},
   "source": [
    "<a id='Coordinates_of_a_Point'></a>\n",
    "### Coordinates_of_a_Point"
   ]
  },
  {
   "cell_type": "code",
   "execution_count": 29,
   "id": "91563f88-6232-4d05-8eeb-ebc18b4cd6b7",
   "metadata": {},
   "outputs": [
    {
     "name": "stdin",
     "output_type": "stream",
     "text": [
      " 4.5 -2.2\n"
     ]
    },
    {
     "name": "stdout",
     "output_type": "stream",
     "text": [
      "Q4\n"
     ]
    }
   ],
   "source": [
    "x, y = map(float, input().split())\n",
    "\n",
    "if x == 0 and y == 0:\n",
    "    print(\"Origem\")\n",
    "elif x == 0:\n",
    "    print(\"Eixo Y\")\n",
    "elif y == 0:\n",
    "    print(\"Eixo X\")\n",
    "elif x > 0 and y > 0:\n",
    "    print(\"Q1\")\n",
    "elif x < 0 and y > 0:\n",
    "    print(\"Q2\")\n",
    "elif x < 0 and y < 0:\n",
    "    print(\"Q3\")\n",
    "else:\n",
    "    print(\"Q4\")\n"
   ]
  },
  {
   "cell_type": "code",
   "execution_count": null,
   "id": "6a30c915-c680-4757-92a7-59ee7e0a7394",
   "metadata": {},
   "outputs": [],
   "source": [
    "<a id='Refer_to'></a>\n",
    "### Refer_to"
   ]
  },
  {
   "cell_type": "code",
   "execution_count": null,
   "id": "e938c471-7391-4868-9504-f55acd969d54",
   "metadata": {},
   "outputs": [],
   "source": [
    "<a id='Refer_to'></a>\n",
    "### Refer_to"
   ]
  },
  {
   "cell_type": "code",
   "execution_count": null,
   "id": "e6b07628-edef-4b65-bd1b-6e88cb66c699",
   "metadata": {},
   "outputs": [],
   "source": [
    "<a id='Refer_to'></a>\n",
    "### Refer_to"
   ]
  },
  {
   "cell_type": "code",
   "execution_count": null,
   "id": "b6a97396-8222-43e2-8c68-fc9e404c45ec",
   "metadata": {},
   "outputs": [],
   "source": [
    "<a id='Refer_to'></a>\n",
    "### Refer_to"
   ]
  },
  {
   "cell_type": "code",
   "execution_count": null,
   "id": "0a9f822f-e5f6-4908-a541-bc8c465a6f94",
   "metadata": {},
   "outputs": [],
   "source": [
    "<a id='Refer_to'></a>\n",
    "### Refer_to"
   ]
  },
  {
   "cell_type": "code",
   "execution_count": null,
   "id": "3c397aed-b619-490e-a169-3a38b27c6aa7",
   "metadata": {},
   "outputs": [],
   "source": [
    "<a id='Refer_to'></a>\n",
    "### Refer_to"
   ]
  },
  {
   "cell_type": "code",
   "execution_count": null,
   "id": "fc764eab-0b28-4e0c-8fd1-d989c8175df0",
   "metadata": {},
   "outputs": [],
   "source": [
    "<a id='Refer_to'></a>\n",
    "### Refer_to"
   ]
  }
 ],
 "metadata": {
  "kernelspec": {
   "display_name": "Python 3 (ipykernel)",
   "language": "python",
   "name": "python3"
  },
  "language_info": {
   "codemirror_mode": {
    "name": "ipython",
    "version": 3
   },
   "file_extension": ".py",
   "mimetype": "text/x-python",
   "name": "python",
   "nbconvert_exporter": "python",
   "pygments_lexer": "ipython3",
   "version": "3.11.7"
  }
 },
 "nbformat": 4,
 "nbformat_minor": 5
}
