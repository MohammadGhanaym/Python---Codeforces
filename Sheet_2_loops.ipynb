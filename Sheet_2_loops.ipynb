{
 "cells": [
  {
   "cell_type": "markdown",
   "id": "bb12c023-5ab9-4491-919e-2b150471a7fd",
   "metadata": {},
   "source": [
    "### Sheet #2 (Loops)\n",
    "\n",
    "<li><a href=\"#1_to_N\">1_to_N</a></li>\n",
    "<li><a href=\"#Even_Numbers\">Even_Numbers</a></li>\n",
    "<li><a href=\"#Even,_Odd,_Positive_and_Negative\">Even,_Odd,_Positive_and_Negative</a></li>\n",
    "<li><a href=\"#Fixed_Password\">Fixed_Password</a></li>\n",
    "<li><a href=\"#Max\">Max</a></li>\n",
    "<li><a href=\"#Multiplication_table\">Multiplication_table</a></li>\n",
    "<li><a href=\"#Factorial\">Factorial</a></li>\n",
    "<li><a href=\"#One_Prime\">One_Prime</a></li>\n",
    "<li><a href=\"#Palindrome\">Palindrome</a></li>\n",
    "<li><a href=\"#Primes_from_1_to_n\">Primes_from_1_to_n</a></li>\n",
    "<li><a href=\"#Divisors\">Divisors</a></li>\n",
    "<li><a href=\"#Write_Here\">Write_Here</a></li>\n",
    "<li><a href=\"#Write_Here\">Write_Here</a></li>\n",
    "<li><a href=\"#Write_Here\">Write_Here</a></li>\n",
    "<li><a href=\"#Write_Here\">Write_Here</a></li>\n",
    "<li><a href=\"#Write_Here\">Write_Here</a></li>\n",
    "<li><a href=\"#Write_Here\">Write_Here</a></li>\n",
    "<li><a href=\"#Write_Here\">Write_Here</a></li>"
   ]
  },
  {
   "cell_type": "code",
   "execution_count": 11,
   "id": "698b6908-5379-4e3b-8fcb-c354281f1993",
   "metadata": {},
   "outputs": [
    {
     "data": {
      "text/plain": [
       "'Primes_from_1_to_n'"
      ]
     },
     "execution_count": 11,
     "metadata": {},
     "output_type": "execute_result"
    }
   ],
   "source": [
    "title = 'Primes from 1 to n'\n",
    "title.replace(' ', '_')"
   ]
  },
  {
   "cell_type": "markdown",
   "id": "2da358f1-d468-4b44-8f59-7bcc5af63385",
   "metadata": {},
   "source": [
    "<a id='1_to_N'></a>\n",
    "### 1_to_N"
   ]
  },
  {
   "cell_type": "code",
   "execution_count": 2,
   "id": "c4a87db2-5784-4de9-86d1-9d662f265e52",
   "metadata": {},
   "outputs": [
    {
     "name": "stdin",
     "output_type": "stream",
     "text": [
      " 5\n"
     ]
    },
    {
     "name": "stdout",
     "output_type": "stream",
     "text": [
      "1\n",
      "2\n",
      "3\n",
      "4\n",
      "5\n"
     ]
    }
   ],
   "source": [
    "n = int(input().strip())\n",
    "for num in range(1, n + 1):\n",
    "    print(num)"
   ]
  },
  {
   "cell_type": "markdown",
   "id": "c5ef0241-5a60-4786-9e24-ff65aea61d78",
   "metadata": {},
   "source": [
    "<a id='Even_Numbers'></a>\n",
    "### Even_Numbers"
   ]
  },
  {
   "cell_type": "code",
   "execution_count": 8,
   "id": "367a7628-21c6-4fb9-bf0b-13157d6cd1e3",
   "metadata": {},
   "outputs": [
    {
     "name": "stdin",
     "output_type": "stream",
     "text": [
      " 3\n"
     ]
    },
    {
     "name": "stdout",
     "output_type": "stream",
     "text": [
      "2\n"
     ]
    }
   ],
   "source": [
    "n = int(input().strip())\n",
    "if n == 1:\n",
    "    print(-1)\n",
    "else:\n",
    "    for num in range(1, n + 1):\n",
    "        if num % 2 == 0:\n",
    "            print(num)"
   ]
  },
  {
   "cell_type": "markdown",
   "id": "e71227c4-ea38-404f-84d5-1fec28aa1e4e",
   "metadata": {},
   "source": [
    "<a id='Even,_Odd,_Positive_and_Negative'></a>\n",
    "### Even,_Odd,_Positive_and_Negative"
   ]
  },
  {
   "cell_type": "code",
   "execution_count": 18,
   "id": "6a182f6b-5759-4918-890f-7c1b483a560f",
   "metadata": {},
   "outputs": [
    {
     "name": "stdin",
     "output_type": "stream",
     "text": [
      " 5\n",
      " -5 0 -3 -4 12\n"
     ]
    },
    {
     "name": "stdout",
     "output_type": "stream",
     "text": [
      "Even:  3\n",
      "Odd:  2\n",
      "Positive:  1\n",
      "Negative:  3\n"
     ]
    }
   ],
   "source": [
    "n = int(input())\n",
    "nums = list(map(int, input().strip().split()))\n",
    "evens = 0\n",
    "odds = 0\n",
    "pos = 0\n",
    "neg = 0\n",
    "for i in range(n):\n",
    "    if nums[i] > 0:\n",
    "        pos += 1\n",
    "    elif nums[i] < 0:\n",
    "        neg += 1\n",
    "        \n",
    "    if nums[i] % 2 == 0:\n",
    "        evens += 1\n",
    "    else:\n",
    "        odds += 1\n",
    "print('Even: ', evens)\n",
    "print('Odd: ', odds)\n",
    "print('Positive: ', pos)\n",
    "print('Negative: ', neg)"
   ]
  },
  {
   "cell_type": "markdown",
   "id": "81b38fa1-3ee7-43c6-ac66-ded932f03972",
   "metadata": {},
   "source": [
    "<a id='Fixed_Password'></a>\n",
    "### Fixed_Password"
   ]
  },
  {
   "cell_type": "code",
   "execution_count": 24,
   "id": "dc281662-64e7-45ab-a9dc-6a74ea769f51",
   "metadata": {},
   "outputs": [
    {
     "name": "stdin",
     "output_type": "stream",
     "text": [
      " 1234\n"
     ]
    },
    {
     "name": "stdout",
     "output_type": "stream",
     "text": [
      "Wrong\n"
     ]
    },
    {
     "name": "stdin",
     "output_type": "stream",
     "text": [
      " 1999\n"
     ]
    },
    {
     "name": "stdout",
     "output_type": "stream",
     "text": [
      "Correct\n"
     ]
    }
   ],
   "source": [
    "while input() != '1999':\n",
    "    print('Wrong')\n",
    "print('Correct')"
   ]
  },
  {
   "cell_type": "markdown",
   "id": "7ec760ac-40bb-4a48-b46d-5fc165fb3502",
   "metadata": {},
   "source": [
    "<a id='Max'></a>\n",
    "### Max"
   ]
  },
  {
   "cell_type": "code",
   "execution_count": 26,
   "id": "f193ce6f-9ce8-40ee-ac5f-00497e2dfee9",
   "metadata": {},
   "outputs": [
    {
     "name": "stdin",
     "output_type": "stream",
     "text": [
      " 5\n",
      " 1 8 5 7 5\n"
     ]
    },
    {
     "name": "stdout",
     "output_type": "stream",
     "text": [
      "8\n"
     ]
    }
   ],
   "source": [
    "n = int(input().strip())\n",
    "num_list = list(map(int, input().strip().split()))\n",
    "\n",
    "max_num = num_list[0]\n",
    "for num in num_list[1:]:\n",
    "    if num > max_num:\n",
    "        max_num = num\n",
    "\n",
    "print(max_num)"
   ]
  },
  {
   "cell_type": "code",
   "execution_count": 27,
   "id": "54146f66-a402-431f-a69c-9b3e71f592ca",
   "metadata": {},
   "outputs": [
    {
     "name": "stdin",
     "output_type": "stream",
     "text": [
      " 5\n",
      " 1 8 5 7 5\n"
     ]
    },
    {
     "name": "stdout",
     "output_type": "stream",
     "text": [
      "8\n"
     ]
    }
   ],
   "source": [
    "n = int(input().strip())\n",
    "num_list = list(map(int, input().strip().split()))\n",
    "\n",
    "print(max(num_list))"
   ]
  },
  {
   "cell_type": "markdown",
   "id": "047cca3f-a941-4ec9-b718-6b98fbabc8ea",
   "metadata": {},
   "source": [
    "<a id='Multiplication_table'></a>\n",
    "### Multiplication_table"
   ]
  },
  {
   "cell_type": "code",
   "execution_count": 30,
   "id": "6a5a07e6-814e-43b1-b93a-5f40194589fb",
   "metadata": {},
   "outputs": [
    {
     "name": "stdin",
     "output_type": "stream",
     "text": [
      " 5\n"
     ]
    },
    {
     "name": "stdout",
     "output_type": "stream",
     "text": [
      "5 * 1 = 5\n",
      "5 * 2 = 10\n",
      "5 * 3 = 15\n",
      "5 * 4 = 20\n",
      "5 * 5 = 25\n",
      "5 * 6 = 30\n",
      "5 * 7 = 35\n",
      "5 * 8 = 40\n",
      "5 * 9 = 45\n",
      "5 * 10 = 50\n",
      "5 * 11 = 55\n",
      "5 * 12 = 60\n"
     ]
    }
   ],
   "source": [
    "n = int(input().strip())\n",
    "for num in range(1, 13):\n",
    "    print('{} * {} = {}'.format(n, num, n * num))"
   ]
  },
  {
   "cell_type": "markdown",
   "id": "4bff84e1-f7b1-40ad-b72a-1a257688b083",
   "metadata": {},
   "source": [
    "<a id='Factorial'></a>\n",
    "### Factorial"
   ]
  },
  {
   "cell_type": "code",
   "execution_count": 36,
   "id": "5ecdeed5-fbf1-4535-9a55-bb1d157fcfc2",
   "metadata": {},
   "outputs": [
    {
     "name": "stdin",
     "output_type": "stream",
     "text": [
      " 2\n",
      " 5\n"
     ]
    },
    {
     "name": "stdout",
     "output_type": "stream",
     "text": [
      "120\n"
     ]
    },
    {
     "name": "stdin",
     "output_type": "stream",
     "text": [
      " 3\n"
     ]
    },
    {
     "name": "stdout",
     "output_type": "stream",
     "text": [
      "6\n"
     ]
    }
   ],
   "source": [
    "n_test_cases = int(input().strip())\n",
    "for _ in range(n_test_cases):\n",
    "    n = int(input().strip())\n",
    "    if n == 0 or n == 1:\n",
    "        print(1)\n",
    "    else:\n",
    "        fact = 1\n",
    "        for num in range(1, n + 1):\n",
    "            fact *= num\n",
    "    \n",
    "        print(fact)"
   ]
  },
  {
   "cell_type": "markdown",
   "id": "d8cac634-d399-4858-9bcc-e89d2d541032",
   "metadata": {},
   "source": [
    "<a id='One_Prime'></a>\n",
    "### One_Prime"
   ]
  },
  {
   "attachments": {
    "db33c7c2-43c7-4e0b-aed2-a04ea4c0b580.png": {
     "image/png": "[encoded data removed]"
    }
   },
   "cell_type": "markdown",
   "id": "244463dd-80fe-4188-863a-52ecad49bdee",
   "metadata": {},
   "source": [
    "![image.png](attachment:db33c7c2-43c7-4e0b-aed2-a04ea4c0b580.png)"
   ]
  },
  {
   "cell_type": "code",
   "execution_count": 54,
   "id": "8b6a46ac-294f-4395-87b7-730b50465ced",
   "metadata": {},
   "outputs": [
    {
     "name": "stdin",
     "output_type": "stream",
     "text": [
      " 61\n"
     ]
    },
    {
     "name": "stdout",
     "output_type": "stream",
     "text": [
      "YES\n"
     ]
    }
   ],
   "source": [
    "import math\n",
    "num = int(input().strip())\n",
    "prime = True\n",
    "\n",
    "for mod in range(2, int(math.sqrt(num)) + 1):\n",
    "    if num % mod == 0:\n",
    "        prime = False\n",
    "        print('NO')\n",
    "        break\n",
    "if prime:\n",
    "    print('YES')"
   ]
  },
  {
   "cell_type": "markdown",
   "id": "56064842-b082-42a7-b2bd-6681ff17ed4f",
   "metadata": {},
   "source": [
    "<a id='Palindrome'></a>\n",
    "### Palindrome"
   ]
  },
  {
   "cell_type": "code",
   "execution_count": 12,
   "id": "dd134fe7-309b-432d-b010-ccee0fc6c5a5",
   "metadata": {},
   "outputs": [
    {
     "name": "stdin",
     "output_type": "stream",
     "text": [
      " 160\n"
     ]
    },
    {
     "name": "stdout",
     "output_type": "stream",
     "text": [
      "61\n",
      "NO\n"
     ]
    }
   ],
   "source": [
    "n = int(input().strip())\n",
    "str_n = str(n)\n",
    "reversed_str = str_n[::-1]  # Reverse the string\n",
    "\n",
    "# Print the reversed number\n",
    "print(int(reversed_str))\n",
    "\n",
    "# Check if the number is a palindrome\n",
    "if str_n == reversed_str:\n",
    "    print(\"YES\")\n",
    "else:\n",
    "    print(\"NO\")\n"
   ]
  },
  {
   "cell_type": "markdown",
   "id": "62dc3471-445b-4a76-8a03-d4bfce52f0ff",
   "metadata": {},
   "source": [
    "<a id='Primes_from_1_to_n'></a>\n",
    "### Primes_from_1_to_n"
   ]
  },
  {
   "cell_type": "code",
   "execution_count": 42,
   "id": "04607b95-64fc-4969-93ca-d80f8b029c60",
   "metadata": {},
   "outputs": [
    {
     "name": "stdin",
     "output_type": "stream",
     "text": [
      " 10\n"
     ]
    },
    {
     "name": "stdout",
     "output_type": "stream",
     "text": [
      "2 3 5 7 "
     ]
    }
   ],
   "source": [
    "import math\n",
    "n = int(input().strip())\n",
    "\n",
    "for num in range(2, n + 1):\n",
    "    prime = True\n",
    "    for i in range(2, int(math.sqrt(num)) + 1):\n",
    "        if num % i == 0:\n",
    "            prime = False\n",
    "            break\n",
    "\n",
    "    if prime:\n",
    "        print(num, end=' ')"
   ]
  },
  {
   "cell_type": "markdown",
   "id": "cb00f5d5-74a4-4563-b9d8-5ea9a6939031",
   "metadata": {},
   "source": [
    "<a id='Divisors'></a>\n",
    "### Divisors"
   ]
  },
  {
   "cell_type": "code",
   "execution_count": 39,
   "id": "304465ab-9907-4f2f-9ce0-372e37b89f0d",
   "metadata": {},
   "outputs": [
    {
     "name": "stdin",
     "output_type": "stream",
     "text": [
      " 10\n"
     ]
    },
    {
     "name": "stdout",
     "output_type": "stream",
     "text": [
      "1\n",
      "2\n",
      "5\n",
      "10\n"
     ]
    }
   ],
   "source": [
    "n = int(input().strip())\n",
    "for i in range(1, n + 1):\n",
    "    if n % i == 0:\n",
    "        print(i)"
   ]
  },
  {
   "cell_type": "code",
   "execution_count": null,
   "id": "2fddef69-73a0-4a13-a13f-37a40be8c828",
   "metadata": {},
   "outputs": [],
   "source": [
    "<a id='Refer_to'></a>\n",
    "### Refer_to"
   ]
  },
  {
   "cell_type": "code",
   "execution_count": null,
   "id": "7112f463-470a-43ad-baec-a2586b8d3540",
   "metadata": {},
   "outputs": [],
   "source": [
    "<a id='Refer_to'></a>\n",
    "### Refer_to"
   ]
  },
  {
   "cell_type": "code",
   "execution_count": null,
   "id": "03b92327-836d-4e98-afb5-2744359205f0",
   "metadata": {},
   "outputs": [],
   "source": [
    "<a id='Refer_to'></a>\n",
    "### Refer_to"
   ]
  },
  {
   "cell_type": "code",
   "execution_count": null,
   "id": "9e482c9a-bf70-4c63-9eef-5a69b458a4f2",
   "metadata": {},
   "outputs": [],
   "source": [
    "<a id='Refer_to'></a>\n",
    "### Refer_to"
   ]
  },
  {
   "cell_type": "code",
   "execution_count": null,
   "id": "043932ee-f419-4163-a864-73c0b8a3124a",
   "metadata": {},
   "outputs": [],
   "source": [
    "<a id='Refer_to'></a>\n",
    "### Refer_to"
   ]
  },
  {
   "cell_type": "code",
   "execution_count": null,
   "id": "205f1527-affa-441c-b5f1-393aa0ef69b0",
   "metadata": {},
   "outputs": [],
   "source": [
    "<a id='Refer_to'></a>\n",
    "### Refer_to"
   ]
  },
  {
   "cell_type": "code",
   "execution_count": null,
   "id": "b7f0ebec-e403-4d65-af80-b2fe7dbbd696",
   "metadata": {},
   "outputs": [],
   "source": [
    "<a id='Refer_to'></a>\n",
    "### Refer_to"
   ]
  },
  {
   "cell_type": "code",
   "execution_count": null,
   "id": "8133980a-3add-47cb-85fe-63d32838f151",
   "metadata": {},
   "outputs": [],
   "source": [
    "<a id='Refer_to'></a>\n",
    "### Refer_to"
   ]
  },
  {
   "cell_type": "code",
   "execution_count": null,
   "id": "3183159c-2a93-4855-bf9c-1949f848da71",
   "metadata": {},
   "outputs": [],
   "source": [
    "<a id='Refer_to'></a>\n",
    "### Refer_to"
   ]
  },
  {
   "cell_type": "code",
   "execution_count": null,
   "id": "24610f69-f79f-4d3f-bc02-d1fdfa4ae0e0",
   "metadata": {},
   "outputs": [],
   "source": [
    "<a id='Refer_to'></a>\n",
    "### Refer_to"
   ]
  },
  {
   "cell_type": "code",
   "execution_count": null,
   "id": "9f5c0b61-ce92-4d6a-8a94-6e5e2e798bdf",
   "metadata": {},
   "outputs": [],
   "source": [
    "<a id='Refer_to'></a>\n",
    "### Refer_to"
   ]
  },
  {
   "cell_type": "code",
   "execution_count": null,
   "id": "7972cc56-ea2c-45d9-8706-ae928ca154f2",
   "metadata": {},
   "outputs": [],
   "source": [
    "<a id='Refer_to'></a>\n",
    "### Refer_to"
   ]
  },
  {
   "cell_type": "code",
   "execution_count": null,
   "id": "c22c1d01-7af4-4ec8-848a-5e8fc898cfb7",
   "metadata": {},
   "outputs": [],
   "source": [
    "<a id='Refer_to'></a>\n",
    "### Refer_to"
   ]
  },
  {
   "cell_type": "code",
   "execution_count": null,
   "id": "a123b2e8-a496-4596-b4b0-d37c3bcc051d",
   "metadata": {},
   "outputs": [],
   "source": [
    "<a id='Refer_to'></a>\n",
    "### Refer_to"
   ]
  }
 ],
 "metadata": {
  "kernelspec": {
   "display_name": "Python 3 (ipykernel)",
   "language": "python",
   "name": "python3"
  },
  "language_info": {
   "codemirror_mode": {
    "name": "ipython",
    "version": 3
   },
   "file_extension": ".py",
   "mimetype": "text/x-python",
   "name": "python",
   "nbconvert_exporter": "python",
   "pygments_lexer": "ipython3",
   "version": "3.11.7"
  }
 },
 "nbformat": 4,
 "nbformat_minor": 5
}
